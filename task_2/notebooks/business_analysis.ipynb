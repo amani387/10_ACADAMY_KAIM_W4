{
 "cells": [
  {
   "cell_type": "code",
   "execution_count": 2,
   "metadata": {},
   "outputs": [],
   "source": [
    "import pandas as pd\n",
    "import numpy as np\n",
    "from sklearn.preprocessing import StandardScaler, LabelEncoder\n",
    "from datetime import datetime\n",
    "import warnings\n",
    "warnings.filterwarnings(\"ignore\")"
   ]
  },
  {
   "cell_type": "code",
   "execution_count": 3,
   "metadata": {},
   "outputs": [],
   "source": [
    "train_preprocessed = pd.read_csv(r'C:\\Users\\kingsta\\Desktop\\week-\\10_ACADAMY_KAIM_W4\\10_ACADAMY_KAIM_W4\\task_2\\data\\train_preprocessed.csv')\n",
    "test_preprocessed = pd.read_csv(r'C:\\Users\\kingsta\\Desktop\\week-\\10_ACADAMY_KAIM_W4\\10_ACADAMY_KAIM_W4\\task_2\\data\\test_preprocessed.csv')\n",
    "store_preprocessed= pd.read_csv(r'C:\\Users\\kingsta\\Desktop\\week-\\10_ACADAMY_KAIM_W4\\10_ACADAMY_KAIM_W4\\task_2\\data\\store_preprocessed.csv')"
   ]
  },
  {
   "cell_type": "code",
   "execution_count": null,
   "metadata": {},
   "outputs": [],
   "source": [
    "train_merged = pd.merge(train_preprocessed, store_preprocessed, on='Store', how='left')\n",
    "test_merged = pd.merge(test_preprocessed, store_preprocessed, on='Store', how='left')\n"
   ]
  },
  {
   "cell_type": "code",
   "execution_count": null,
   "metadata": {},
   "outputs": [],
   "source": [
    "# If 'Date' was dropped earlier, reload the original test dataset to retrieve it\n",
    "original_test = pd.read_csv('test.csv')\n",
    "test_merged['Date'] = original_test['Date']\n",
    "\n",
    "# Convert 'Date' to datetime\n",
    "test_merged['Date'] = pd.to_datetime(test_merged['Date'])\n"
   ]
  },
  {
   "cell_type": "code",
   "execution_count": null,
   "metadata": {},
   "outputs": [],
   "source": [
    "train_merged['Date'] = pd.to_datetime(train_merged['Date'], errors='coerce')\n",
    "test_merged['Date'] = pd.to_datetime(test_merged['Date'], errors='coerce')\n"
   ]
  },
  {
   "cell_type": "code",
   "execution_count": null,
   "metadata": {},
   "outputs": [],
   "source": [
    "!pip install holidays\n",
    "\n",
    "import pandas as pd\n",
    "import holidays\n",
    "\n",
    "# Example holiday list for 2015\n",
    "us_holidays = holidays.US(years=2015)\n",
    "\n",
    "# Convert the holidays' dates to pandas Timestamps for compatibility\n",
    "us_holidays = {pd.to_datetime(holiday): name for holiday, name in us_holidays.items()}\n",
    "\n",
    "# Assuming 'train_merged' and 'test_merged' are your DataFrames\n",
    "def days_to_next_holiday(date, holiday_list):\n",
    "    # Ensure the date is a pandas Timestamp\n",
    "    date = pd.to_datetime(date)\n",
    "    \n",
    "    # Filter future holidays and calculate the minimum one\n",
    "    future_holidays = [holiday for holiday in holiday_list.keys() if holiday > date]\n",
    "    return (min(future_holidays) - date).days if future_holidays else 0\n",
    "\n",
    "# Apply the function to the 'Date' column\n",
    "train_merged['DaysToHoliday'] = train_merged['Date'].apply(lambda x: days_to_next_holiday(x, us_holidays))\n",
    "test_merged['DaysToHoliday'] = test_merged['Date'].apply(lambda x: days_to_next_holiday(x, us_holidays))\n"
   ]
  }
 ],
 "metadata": {
  "kernelspec": {
   "display_name": "base",
   "language": "python",
   "name": "python3"
  },
  "language_info": {
   "codemirror_mode": {
    "name": "ipython",
    "version": 3
   },
   "file_extension": ".py",
   "mimetype": "text/x-python",
   "name": "python",
   "nbconvert_exporter": "python",
   "pygments_lexer": "ipython3",
   "version": "3.12.7"
  }
 },
 "nbformat": 4,
 "nbformat_minor": 2
}
